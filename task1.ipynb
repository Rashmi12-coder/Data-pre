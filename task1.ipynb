{
 "cells": [
  {
   "cell_type": "code",
   "execution_count": 1,
   "id": "0ee09a38-4835-44ab-870f-f26f2cfef3c6",
   "metadata": {},
   "outputs": [
    {
     "name": "stdout",
     "output_type": "stream",
     "text": [
      "<class 'pandas.core.frame.DataFrame'>\n",
      "RangeIndex: 183 entries, 0 to 182\n",
      "Data columns (total 12 columns):\n",
      " #   Column       Non-Null Count  Dtype  \n",
      "---  ------       --------------  -----  \n",
      " 0   PassengerId  183 non-null    int64  \n",
      " 1   Survived     183 non-null    int64  \n",
      " 2   Pclass       183 non-null    int64  \n",
      " 3   Name         183 non-null    object \n",
      " 4   Sex          183 non-null    object \n",
      " 5   Age          183 non-null    float64\n",
      " 6   SibSp        183 non-null    int64  \n",
      " 7   Parch        183 non-null    int64  \n",
      " 8   Ticket       183 non-null    object \n",
      " 9   Fare         183 non-null    float64\n",
      " 10  Cabin        183 non-null    object \n",
      " 11  Embarked     183 non-null    object \n",
      "dtypes: float64(2), int64(5), object(5)\n",
      "memory usage: 17.3+ KB\n",
      "None\n",
      "   PassengerId  Survived  Pclass  \\\n",
      "0            2         1       1   \n",
      "1            4         1       1   \n",
      "2            7         0       1   \n",
      "3           11         1       3   \n",
      "4           12         1       1   \n",
      "\n",
      "                                                Name     Sex   Age  SibSp  \\\n",
      "0  Cumings, Mrs. John Bradley (Florence Briggs Th...  female  38.0      1   \n",
      "1       Futrelle, Mrs. Jacques Heath (Lily May Peel)  female  35.0      1   \n",
      "2                            McCarthy, Mr. Timothy J    male  54.0      0   \n",
      "3                    Sandstrom, Miss. Marguerite Rut  female   4.0      1   \n",
      "4                           Bonnell, Miss. Elizabeth  female  58.0      0   \n",
      "\n",
      "   Parch    Ticket     Fare Cabin Embarked  \n",
      "0      0  PC 17599  71.2833   C85        C  \n",
      "1      0    113803  53.1000  C123        S  \n",
      "2      0     17463  51.8625   E46        S  \n",
      "3      1   PP 9549  16.7000    G6        S  \n",
      "4      0    113783  26.5500  C103        S  \n"
     ]
    }
   ],
   "source": [
    "import pandas as pd\n",
    "df = pd.read_csv(\"C:/Users/ajith/Downloads/extracted_dataset/cleaned_titanic.csv\")\n",
    "print(df.info())  \n",
    "print(df.head())  \n"
   ]
  },
  {
   "cell_type": "code",
   "execution_count": 9,
   "id": "194f4ae5-7897-4e18-8a5e-5ab2800ccb28",
   "metadata": {},
   "outputs": [],
   "source": [
    "df.fillna(df.select_dtypes(include=['number']).mean(), inplace=True)\n"
   ]
  },
  {
   "cell_type": "code",
   "execution_count": 13,
   "id": "a4268864-d82d-4196-9547-7b79a061f407",
   "metadata": {},
   "outputs": [],
   "source": [
    "df[col] = df[col].fillna(df[col].mode()[0])\n"
   ]
  },
  {
   "cell_type": "code",
   "execution_count": 15,
   "id": "37bd37a7-5b83-488c-8609-873a737ef9ee",
   "metadata": {},
   "outputs": [],
   "source": [
    "# Convert categorical columns using one-hot encoding\n",
    "df = pd.get_dummies(df, columns=['Embarked', 'Sex'], drop_first=True)\n"
   ]
  },
  {
   "cell_type": "code",
   "execution_count": 17,
   "id": "4ce4d152-3195-4e58-a44d-b0ca4281eabe",
   "metadata": {},
   "outputs": [],
   "source": [
    "from sklearn.preprocessing import StandardScaler\n",
    "scaler = StandardScaler()\n",
    "df[['Age', 'Fare']] = scaler.fit_transform(df[['Age', 'Fare']])\n"
   ]
  },
  {
   "cell_type": "code",
   "execution_count": 19,
   "id": "b39112b6-2072-4053-ab2a-4c11e451d440",
   "metadata": {},
   "outputs": [
    {
     "data": {
      "image/png": "[encoded data removed]",
      "text/plain": [
       "<Figure size 640x480 with 1 Axes>"
      ]
     },
     "metadata": {},
     "output_type": "display_data"
    }
   ],
   "source": [
    "import seaborn as sns\n",
    "import matplotlib.pyplot as plt\n",
    "\n",
    "# Visualizing outliers using boxplots\n",
    "sns.boxplot(data=df[['Age', 'Fare']])\n",
    "plt.title(\"Boxplot for Outlier Detection\")\n",
    "plt.show()\n"
   ]
  },
  {
   "cell_type": "code",
   "execution_count": 27,
   "id": "2fce040b-8d87-4446-b3fd-5f13c00b0571",
   "metadata": {},
   "outputs": [],
   "source": [
    "# Select only numeric columns\n",
    "numeric_cols = df.select_dtypes(include=['number']).columns\n",
    "Q1 = df[numeric_cols].quantile(0.25)\n",
    "Q3 = df[numeric_cols].quantile(0.75)\n",
    "IQR = Q3 - Q1\n",
    "\n",
    "# Remove outliers based on IQR\n",
    "df_filtered = df[~((df[numeric_cols] < (Q1 - 1.5 * IQR)) | (df[numeric_cols] > (Q3 + 1.5 * IQR))).any(axis=1)]\n"
   ]
  },
  {
   "cell_type": "code",
   "execution_count": 31,
   "id": "99aec794-b326-4156-b1a2-81b762a4a18c",
   "metadata": {},
   "outputs": [],
   "source": [
    "df_filtered.to_csv(\"C:/Users/ajith/Downloads/extracted_dataset/final_cleaned_titanic.csv\", index=False)\n"
   ]
  },
  {
   "cell_type": "code",
   "execution_count": 33,
   "id": "03b9c2f7-431e-4c55-87a7-f90d0299b9f2",
   "metadata": {},
   "outputs": [
    {
     "name": "stdout",
     "output_type": "stream",
     "text": [
      "<class 'pandas.core.frame.DataFrame'>\n",
      "RangeIndex: 142 entries, 0 to 141\n",
      "Data columns (total 13 columns):\n",
      " #   Column       Non-Null Count  Dtype  \n",
      "---  ------       --------------  -----  \n",
      " 0   PassengerId  142 non-null    int64  \n",
      " 1   Survived     142 non-null    int64  \n",
      " 2   Pclass       142 non-null    int64  \n",
      " 3   Name         142 non-null    object \n",
      " 4   Age          142 non-null    float64\n",
      " 5   SibSp        142 non-null    int64  \n",
      " 6   Parch        142 non-null    int64  \n",
      " 7   Ticket       142 non-null    object \n",
      " 8   Fare         142 non-null    float64\n",
      " 9   Cabin        142 non-null    object \n",
      " 10  Embarked_Q   142 non-null    bool   \n",
      " 11  Embarked_S   142 non-null    bool   \n",
      " 12  Sex_male     142 non-null    bool   \n",
      "dtypes: bool(3), float64(2), int64(5), object(3)\n",
      "memory usage: 11.6+ KB\n",
      "None\n",
      "   PassengerId  Survived  Pclass  \\\n",
      "0            2         1       1   \n",
      "1            4         1       1   \n",
      "2            7         0       1   \n",
      "3           12         1       1   \n",
      "4           24         1       1   \n",
      "\n",
      "                                                Name       Age  SibSp  Parch  \\\n",
      "0  Cumings, Mrs. John Bradley (Florence Briggs Th...  0.149065      1      0   \n",
      "1       Futrelle, Mrs. Jacques Heath (Lily May Peel) -0.043230      1      0   \n",
      "2                            McCarthy, Mr. Timothy J  1.174636      0      0   \n",
      "3                           Bonnell, Miss. Elizabeth  1.431029      0      0   \n",
      "4                       Sloper, Mr. William Thompson -0.491917      0      0   \n",
      "\n",
      "     Ticket      Fare Cabin  Embarked_Q  Embarked_S  Sex_male  \n",
      "0  PC 17599 -0.097180   C85       False       False     False  \n",
      "1    113803 -0.335997  C123       False        True     False  \n",
      "2     17463 -0.352250   E46       False        True      True  \n",
      "3    113783 -0.684702  C103       False        True     False  \n",
      "4    113788 -0.567153    A6       False        True      True  \n"
     ]
    }
   ],
   "source": [
    "import pandas as pd\n",
    "\n",
    "df = pd.read_csv(\"C:/Users/ajith/Downloads/extracted_dataset/final_cleaned_titanic.csv\")\n",
    "print(df.info())  # Check data types & non-null values\n",
    "print(df.head())  # Preview first few rows\n"
   ]
  }
 ],
 "metadata": {
  "kernelspec": {
   "display_name": "Python [conda env:base] *",
   "language": "python",
   "name": "conda-base-py"
  },
  "language_info": {
   "codemirror_mode": {
    "name": "ipython",
    "version": 3
   },
   "file_extension": ".py",
   "mimetype": "text/x-python",
   "name": "python",
   "nbconvert_exporter": "python",
   "pygments_lexer": "ipython3",
   "version": "3.12.7"
  }
 },
 "nbformat": 4,
 "nbformat_minor": 5
}
